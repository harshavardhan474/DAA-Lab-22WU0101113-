{
 "cells": [
  {
   "cell_type": "code",
   "execution_count": 1,
   "id": "5d5f8983",
   "metadata": {},
   "outputs": [
    {
     "name": "stdout",
     "output_type": "stream",
     "text": [
      "[1, 10, 2, 20, 3, 30, 4, 40]\n"
     ]
    }
   ],
   "source": [
    "print([1,10,2,20,3,30,4,40])"
   ]
  },
  {
   "cell_type": "code",
   "execution_count": 2,
   "id": "d7b5bb56",
   "metadata": {},
   "outputs": [
    {
     "name": "stdout",
     "output_type": "stream",
     "text": [
      "[0, 0, 0, 0, 0, 0, 1, 1, 1, 1, 2, 2, 2]\n"
     ]
    }
   ],
   "source": [
    "def selection_sort(arr):\n",
    "    n = len(arr)\n",
    "    \n",
    "    for i in range(n):\n",
    "        min_index = i\n",
    "        for j in range(i + 1, n):\n",
    "            if arr[j] < arr[min_index]:\n",
    "                min_index = j\n",
    "        arr[i], arr[min_index] = arr[min_index], arr[i]\n",
    "a = [1, 1, 0, 0, 2, 2, 0, 0, 1, 0, 2, 0, 1]\n",
    "selection_sort(a)\n",
    "output = []\n",
    "current_value = a[0]\n",
    "\n",
    "for num in a:\n",
    "    if num != current_value:\n",
    "        current_value = num\n",
    "    output.append(current_value)\n",
    "\n",
    "print(output)\n"
   ]
  },
  {
   "cell_type": "code",
   "execution_count": 3,
   "id": "daafab1c",
   "metadata": {},
   "outputs": [
    {
     "name": "stdout",
     "output_type": "stream",
     "text": [
      "[0, 0, 0, 0, 0, 0, 1, 1, 1, 1, 2, 2, 2]\n"
     ]
    }
   ],
   "source": [
    "def bubble_sort(arr):\n",
    "    n = len(arr)\n",
    "    \n",
    "    for i in range(n - 1):\n",
    "        for j in range(0, n - i - 1):\n",
    "            if arr[j] > arr[j + 1]:\n",
    "                arr[j], arr[j + 1] = arr[j + 1], arr[j]\n",
    "a = [1, 1, 0, 0, 2, 2, 0, 0, 1, 0, 2, 0, 1]\n",
    "bubble_sort(a)\n",
    "output = []\n",
    "current_value = a[0]\n",
    "\n",
    "for num in a:\n",
    "    if num != current_value:\n",
    "        current_value = num\n",
    "    output.append(current_value)\n",
    "\n",
    "print(output)\n"
   ]
  },
  {
   "cell_type": "code",
   "execution_count": 4,
   "id": "a7483a24",
   "metadata": {},
   "outputs": [
    {
     "name": "stdout",
     "output_type": "stream",
     "text": [
      "The expression has balanced parentheses.\n"
     ]
    }
   ],
   "source": [
    "def is_balanced(expression):\n",
    "    stack = []\n",
    "    opening_brackets = \"([{\"\n",
    "    closing_brackets = \")]}\"\n",
    "    bracket_pairs = {')': '(', '}': '{', ']': '['}\n",
    "\n",
    "    for char in expression:\n",
    "        if char in opening_brackets:\n",
    "            stack.append(char)\n",
    "        elif char in closing_brackets:\n",
    "            if not stack:\n",
    "                return False  \n",
    "            elif stack[-1] == bracket_pairs[char]:\n",
    "                stack.pop()\n",
    "            else:\n",
    "                return False \n",
    "\n",
    "    return len(stack) == 0  \n",
    "\n",
    "expression = \"[({{([])}})]\"\n",
    "if is_balanced(expression):\n",
    "    print(\"The expression has balanced parentheses.\")\n",
    "else:\n",
    "    print(\"The expression does not have balanced parentheses.\")\n"
   ]
  },
  {
   "cell_type": "code",
   "execution_count": 5,
   "id": "f6a3dfe7",
   "metadata": {},
   "outputs": [
    {
     "name": "stdout",
     "output_type": "stream",
     "text": [
      "Inversions:\n",
      "(8, 4)\n",
      "(8, 2)\n",
      "(8, 1)\n",
      "(4, 2)\n",
      "(4, 1)\n",
      "(2, 1)\n"
     ]
    }
   ],
   "source": [
    "def find_inversions(arr):\n",
    "    inversions = []\n",
    "    n = len(arr)\n",
    "\n",
    "    for i in range(n):\n",
    "        for j in range(i + 1, n):\n",
    "            if arr[i] > arr[j]:\n",
    "                inversions.append((arr[i], arr[j]))\n",
    "\n",
    "    return inversions\n",
    "\n",
    "arr = [8, 4, 2, 1]\n",
    "inversions = find_inversions(arr)\n",
    "\n",
    "print(\"Inversions:\")\n",
    "for inversion in inversions:\n",
    "    print(inversion)"
   ]
  },
  {
   "cell_type": "code",
   "execution_count": 6,
   "id": "6e8446c2",
   "metadata": {},
   "outputs": [
    {
     "name": "stdout",
     "output_type": "stream",
     "text": [
      "[1, 10, 2, 20, 3, 30, 4, 40]\n"
     ]
    }
   ],
   "source": [
    "array_1 = [1, 2, 3, 4]\n",
    "array_2 = [10, 20, 30, 40]\n",
    "\n",
    "mix_array = []\n",
    "\n",
    "for i in range(len(array_1)):\n",
    "    mix_array.append(array_1[i])\n",
    "    mix_array.append(array_2[i])\n",
    "\n",
    "print(mix_array)"
   ]
  },
  {
   "cell_type": "code",
   "execution_count": 7,
   "id": "58ec5572",
   "metadata": {},
   "outputs": [
    {
     "name": "stdout",
     "output_type": "stream",
     "text": [
      "60\n"
     ]
    }
   ],
   "source": [
    "matrix = [\n",
    "    [1, 2, 3, 4, 5],\n",
    "    [6, 7, 8, 9, 10],\n",
    "    [11, 12, 13, 14, 15]\n",
    "]\n",
    "sum = 0\n",
    "for i in range(len(matrix)):\n",
    "    for j in range(len(matrix[0])):\n",
    "        if i == 1 or j == 4:  \n",
    "            sum += matrix[i][j]\n",
    "print(sum)"
   ]
  },
  {
   "cell_type": "code",
   "execution_count": 8,
   "id": "9e6c3fc4",
   "metadata": {},
   "outputs": [
    {
     "name": "stdout",
     "output_type": "stream",
     "text": [
      "2\n",
      "9\n",
      "23\n"
     ]
    }
   ],
   "source": [
    "x=\"ABABCDABCABCDBCABBABABAABCD\"\n",
    "substring=\"ABCD\"\n",
    "for i in range(len(x)):\n",
    "    if x[i:i + len(substring)]==substring:\n",
    "        print(i)\n",
    "    elif i==len(x)-len(substring):\n",
    "        break"
   ]
  },
  {
   "cell_type": "code",
   "execution_count": 9,
   "id": "c65b1667",
   "metadata": {},
   "outputs": [
    {
     "name": "stdout",
     "output_type": "stream",
     "text": [
      "8 4\n",
      "8 2\n",
      "8 1\n",
      "4 2\n",
      "4 1\n",
      "2 1\n"
     ]
    }
   ],
   "source": [
    "a=[8,4,2,1]\n",
    "for i in range(len(a)):\n",
    "    for j in range(1,len(a)):\n",
    "        if a[i]>a[j] and i<j:\n",
    "            print(a[i],a[j])"
   ]
  },
  {
   "cell_type": "code",
   "execution_count": 10,
   "id": "eec51992",
   "metadata": {},
   "outputs": [
    {
     "name": "stdout",
     "output_type": "stream",
     "text": [
      "Enter the first number: 5\n",
      "Enter the second number: -11\n",
      "Result of multiplication: -55\n"
     ]
    }
   ],
   "source": [
    "def multiply(x, y):\n",
    "    if y == 0:\n",
    "        return 0\n",
    "    \n",
    "    if y < 0:\n",
    "        x, y = -x, -y\n",
    "\n",
    "    result = 0\n",
    "    while y > 0:\n",
    "        if y & 1: \n",
    "            result += x\n",
    "        x <<= 1 \n",
    "        y >>= 1 \n",
    "    \n",
    "    return result\n",
    "\n",
    "x = int(input(\"Enter the first number: \"))\n",
    "y = int(input(\"Enter the second number: \"))\n",
    "\n",
    "result = multiply(x, y)\n",
    "print(\"Result of multiplication:\", result)"
   ]
  },
  {
   "cell_type": "code",
   "execution_count": 14,
   "id": "2bd72074",
   "metadata": {},
   "outputs": [
    {
     "name": "stdout",
     "output_type": "stream",
     "text": [
      "Enter 1 for string OR 2 for number: 2\n",
      "Enter first number : 1\n",
      "Enter second number: 4\n",
      "Minimum number of swaps required: 0\n"
     ]
    }
   ],
   "source": [
    "n = int(input(\"Enter 1 for string OR 2 for number: \"))\n",
    "swaps = 0\n",
    "if n == 1:\n",
    "    s1 = input(\"Enter first string : \")\n",
    "    s2 = input(\"Enter second string: \")\n",
    "    if len(s1) == len(s2):\n",
    "        s1_list = list(s1)\n",
    "        s2_list = list(s2)\n",
    "        for i in range(len(s1)):\n",
    "            if s1_list[i] != s2_list[i]:\n",
    "                for j in range(i + 1, len(s2)):\n",
    "                    if s2_list[j] == s1_list[i]:\n",
    "                        s2_list[i], s2_list[j] = s2_list[j], s2_list[i]\n",
    "                        swaps += 1\n",
    "                        continue\n",
    "        print(\"Minimum number of swaps required:\", swaps)\n",
    "    else:\n",
    "        print(\"Strings are of different lengths.\")\n",
    "elif n == 2:\n",
    "    n1 = int(input(\"Enter first number : \"))\n",
    "    n2 = int(input(\"Enter second number: \"))\n",
    "    n1_str = str(n1)\n",
    "    n2_str = str(n2)\n",
    "    if len(n1_str) == len(n2_str):\n",
    "        n1_list = list(n1_str)\n",
    "        n2_list = list(n2_str)\n",
    "        for i in range(len(n1_str)):\n",
    "            if n1_list[i] != n2_list[i]:\n",
    "                for j in range(i + 1, len(n2_str)):\n",
    "                    if n2_list[j] == n1_list[i]:\n",
    "                        n2_list[i], n2_list[j] = n2_list[j], n2_list[i]\n",
    "                        swaps += 1\n",
    "                        continue\n",
    "        print(\"Minimum number of swaps required:\", swaps)\n",
    "    else:\n",
    "        print(\"Numbers have different numbers of digits.\")\n",
    "else:\n",
    "    print(\"Invalid choice\")"
   ]
  },
  {
   "cell_type": "code",
   "execution_count": 15,
   "id": "64362c5d",
   "metadata": {},
   "outputs": [
    {
     "name": "stdout",
     "output_type": "stream",
     "text": [
      "Enter the first number: 5\n",
      "Enter the second number: 5\n",
      "Result of multiplication: 25\n"
     ]
    }
   ],
   "source": [
    "def multiply(x, y):\n",
    "    if y == 0:\n",
    "        return 0\n",
    "    elif y < 0:\n",
    "        return -multiply(x, -y)\n",
    "    else:\n",
    "        return x + multiply(x, y - 1)\n",
    "\n",
    "# Input values\n",
    "x = int(input(\"Enter the first number: \"))\n",
    "y = int(input(\"Enter the second number: \"))\n",
    "\n",
    "result = multiply(x, y)\n",
    "print(\"Result of multiplication:\", result)"
   ]
  },
  {
   "cell_type": "code",
   "execution_count": 16,
   "id": "9a47563e",
   "metadata": {},
   "outputs": [
    {
     "name": "stdout",
     "output_type": "stream",
     "text": [
      "2\n",
      "9\n",
      "23\n"
     ]
    }
   ],
   "source": [
    "x = \"ABABCDABCABCDBCABBABABAABCD\"\n",
    "substring = \"ABCD\"\n",
    "for i in range(len(x) - len(substring) + 1):\n",
    "    if x[i:i + len(substring)] == substring:\n",
    "        print(i)"
   ]
  },
  {
   "cell_type": "code",
   "execution_count": 17,
   "id": "8d4e39a3",
   "metadata": {},
   "outputs": [
    {
     "name": "stdout",
     "output_type": "stream",
     "text": [
      "4 8\n",
      "2 8\n",
      "1 8\n"
     ]
    }
   ],
   "source": [
    "a = [8, 4, 2, 1]\n",
    "min_val = a[0]\n",
    "\n",
    "for i in range(1, len(a)):\n",
    "    if a[i] < min_val:\n",
    "        print(a[i], min_val)\n",
    "    elif a[i] > min_val:\n",
    "        min_val = a[i]"
   ]
  },
  {
   "cell_type": "code",
   "execution_count": 18,
   "id": "eea565fc",
   "metadata": {},
   "outputs": [
    {
     "name": "stdout",
     "output_type": "stream",
     "text": [
      "8 4\n",
      "8 1\n",
      "16 4\n",
      "16 1\n",
      "4 1\n"
     ]
    }
   ],
   "source": [
    "a=[8,16,4,1]\n",
    "for i in range(len(a)):\n",
    "    for j in range(1,len(a)):\n",
    "        if a[i]>a[j] and i<j:\n",
    "            print(a[i],a[j])"
   ]
  },
  {
   "cell_type": "code",
   "execution_count": 19,
   "id": "e83938bb",
   "metadata": {},
   "outputs": [
    {
     "name": "stdout",
     "output_type": "stream",
     "text": [
      "The trees are not identical.\n"
     ]
    }
   ],
   "source": [
    "class TreeNode:\n",
    "    def __init__(self, data):\n",
    "        self.data = data\n",
    "        self.left = None\n",
    "        self.right = None\n",
    "\n",
    "def are_identical_trees(root1, root2):\n",
    "    if not root1 and not root2:\n",
    "        return True\n",
    "    return (root1 and root2) and (root1.data == root2.data) and \\\n",
    "           are_identical_trees(root1.left, root2.left) and \\\n",
    "           are_identical_trees(root1.right, root2.right)\n",
    "\n",
    "tree1 = TreeNode(1)\n",
    "tree1.left = TreeNode(2)\n",
    "tree1.left.left = TreeNode(4)\n",
    "tree1.right = TreeNode(3)\n",
    "\n",
    "tree2 = TreeNode(1)\n",
    "tree2.left = TreeNode(2)\n",
    "tree2.left.left = TreeNode(4)\n",
    "tree2.right = TreeNode(6)\n",
    "\n",
    "print(\"The trees are identical.\" if are_identical_trees(tree1, tree2) else \"The trees are not identical.\")\n"
   ]
  },
  {
   "cell_type": "code",
   "execution_count": 20,
   "id": "01c6d241",
   "metadata": {},
   "outputs": [
    {
     "name": "stdout",
     "output_type": "stream",
     "text": [
      "eht sky si blue\n"
     ]
    }
   ],
   "source": [
    "def reverse_even_word(sentence):\n",
    "  words = sentence.split()\n",
    "  return \" \".join([w[::-1] if i % 2 == 0 else w for i, w in enumerate(words)])\n",
    "\n",
    "sentence = \"the sky is blue\"\n",
    "reversed_sentence = reverse_even_word(sentence)\n",
    "print(reversed_sentence)\n"
   ]
  },
  {
   "cell_type": "code",
   "execution_count": 27,
   "id": "d3be8ba3",
   "metadata": {},
   "outputs": [
    {
     "name": "stdout",
     "output_type": "stream",
     "text": [
      "abc\n",
      "acb\n",
      "bac\n",
      "bca\n",
      "cab\n",
      "cba\n"
     ]
    }
   ],
   "source": [
    "from itertools import permutations\n",
    "input_str = \"abc\"\n",
    "permutations_list = list(permutations(input_str))\n",
    "for perm in permutations_list:\n",
    "    print(''.join(perm))"
   ]
  },
  {
   "cell_type": "code",
   "execution_count": 28,
   "id": "d82d0447",
   "metadata": {},
   "outputs": [
    {
     "name": "stdout",
     "output_type": "stream",
     "text": [
      "The linked list is not circular.\n"
     ]
    }
   ],
   "source": [
    "class Node:\n",
    "    def __init__(self, data):\n",
    "        self.data = data\n",
    "        self.next = None\n",
    "\n",
    "class LinkedList:\n",
    "    def __init__(self):\n",
    "        self.head = None\n",
    "\n",
    "    def append(self, data):\n",
    "        new_node = Node(data)\n",
    "        if not self.head:\n",
    "            self.head = new_node\n",
    "        else:\n",
    "            current = self.head\n",
    "            while current.next:\n",
    "                current = current.next\n",
    "            current.next = new_node\n",
    "\n",
    "    def is_circular(self):\n",
    "        if not self.head:\n",
    "            return False\n",
    "        \n",
    "        slow_ptr = self.head\n",
    "        fast_ptr = self.head\n",
    "        \n",
    "        while fast_ptr is not None and fast_ptr.next is not None:\n",
    "            slow_ptr = slow_ptr.next\n",
    "            fast_ptr = fast_ptr.next.next\n",
    "            if slow_ptr == fast_ptr:\n",
    "                return True\n",
    "        \n",
    "        return False\n",
    "\n",
    "if  __name__ == \"__main__\":\n",
    "    linked_list = LinkedList()\n",
    "    linked_list.append(1)\n",
    "    linked_list.append(2)\n",
    "    linked_list.append(3)\n",
    "    \n",
    "    is_circular = linked_list.is_circular()\n",
    "    \n",
    "    if is_circular:\n",
    "        print(\"The linked list is circular.\")\n",
    "    else:\n",
    "        print(\"The linked list is not circular.\")"
   ]
  },
  {
   "cell_type": "code",
   "execution_count": 29,
   "id": "03dc4c3e",
   "metadata": {},
   "outputs": [
    {
     "name": "stdout",
     "output_type": "stream",
     "text": [
      "Enter a word: mom\n",
      "mom is a palindrome!\n"
     ]
    }
   ],
   "source": [
    "def is_palindrome(word):\n",
    "    return word == word[::-1]\n",
    "\n",
    "input_word = input(\"Enter a word: \")\n",
    "if is_palindrome(input_word):\n",
    "    print(f\"{input_word} is a palindrome!\")\n",
    "else:\n",
    "    print(f\"{input_word} is not a palindrome.\") "
   ]
  },
  {
   "cell_type": "code",
   "execution_count": 30,
   "id": "35fbe009",
   "metadata": {},
   "outputs": [
    {
     "name": "stdout",
     "output_type": "stream",
     "text": [
      "11\n",
      "12\n",
      "1\n",
      "10\n"
     ]
    }
   ],
   "source": [
    "original_list = [11,12,1,11,10,11,1]\n",
    "unique_list = []\n",
    "for item in original_list:\n",
    "    if item not in unique_list:\n",
    "        unique_list.append(item)\n",
    "        print(item)"
   ]
  },
  {
   "cell_type": "code",
   "execution_count": 31,
   "id": "352bd7aa",
   "metadata": {},
   "outputs": [
    {
     "name": "stdout",
     "output_type": "stream",
     "text": [
      "27\n",
      "36\n",
      "18\n",
      "54\n"
     ]
    }
   ],
   "source": [
    "matrix = [\n",
    "    [1, 3, 2],\n",
    "    [9, 4, 12],\n",
    "    [6, 8, 18]\n",
    "]\n",
    "\n",
    "for row in matrix:\n",
    "    for element in row:\n",
    "        if element % 3 == 0 and (element * 3) > 15:\n",
    "            print(element * 3)\n"
   ]
  },
  {
   "cell_type": "code",
   "execution_count": 32,
   "id": "7e953aba",
   "metadata": {},
   "outputs": [
    {
     "name": "stdout",
     "output_type": "stream",
     "text": [
      " total Product is greater than 50: 34992\n"
     ]
    }
   ],
   "source": [
    "matrix = [\n",
    "    [1, 3, 2],\n",
    "    [9, 4, 12],\n",
    "    [6, 8, 18]\n",
    "]\n",
    "multiples_of_3 = []\n",
    "for row in matrix:\n",
    "    for element in row:\n",
    "        if element % 3 == 0:\n",
    "            multiples_of_3.append(element)\n",
    "product = 1\n",
    "for element in multiples_of_3:\n",
    "    product *= element\n",
    "if product > 50:\n",
    "    print(\" total Product is greater than 50:\", product)\n",
    "else:\n",
    "    print(\"total Product is not greater than 50:\", product)\n"
   ]
  },
  {
   "cell_type": "code",
   "execution_count": 33,
   "id": "27457cdd",
   "metadata": {},
   "outputs": [
    {
     "name": "stdout",
     "output_type": "stream",
     "text": [
      "No\n"
     ]
    }
   ],
   "source": [
    "\n",
    "m = [\n",
    "    [2, -2, 4],\n",
    "    [-1, 3, 4],\n",
    "    [1, -2, -3]\n",
    "]\n",
    "n = [\n",
    "    [2, -2, 4],\n",
    "    [-1, 3, 4],\n",
    "    [1, -2, -3]\n",
    "]\n",
    "\n",
    "def multiply_matrices(matrix1, matrix2):\n",
    "    result = [[0 for _ in range(len(matrix2[0]))] for _ in range(len(matrix1))]\n",
    "    for i in range(len(matrix1)):\n",
    "        for j in range(len(matrix2[0])):\n",
    "            for k in range(len(matrix2)):\n",
    "                result[i][j] += matrix1[i][k] * matrix2[k][j]\n",
    "    return result\n",
    "\n",
    "result = multiply_matrices(m, n)\n",
    "\n",
    "if result == m:\n",
    "    print(\"True\")\n",
    "else:\n",
    "    print(\"No\")\n"
   ]
  },
  {
   "cell_type": "code",
   "execution_count": 34,
   "id": "608fad74",
   "metadata": {},
   "outputs": [
    {
     "name": "stdout",
     "output_type": "stream",
     "text": [
      "True\n"
     ]
    }
   ],
   "source": [
    "class Node:\n",
    "    def __init__(self, data):\n",
    "        self.data = data\n",
    "        self.next = None\n",
    "\n",
    "class LinkedList:\n",
    "    def __init__(self):\n",
    "        self.head = None\n",
    "\n",
    "    def append(self, data):\n",
    "        new_node = Node(data)\n",
    "        if not self.head:\n",
    "            self.head = new_node\n",
    "        else:\n",
    "            current = self.head\n",
    "            while current.next:\n",
    "                current = current.next\n",
    "            current.next = new_node\n",
    "\n",
    "    def is_circular(self):\n",
    "        if not self.head:\n",
    "            return False\n",
    "\n",
    "        slow_ptr = self.head\n",
    "        fast_ptr = self.head\n",
    "\n",
    "        while fast_ptr is not None and fast_ptr.next is not None:\n",
    "            slow_ptr = slow_ptr.next\n",
    "            fast_ptr = fast_ptr.next.next\n",
    "\n",
    "            if slow_ptr == fast_ptr:\n",
    "                return True\n",
    "\n",
    "        return False\n",
    "\n",
    "ll = LinkedList()\n",
    "ll.append(1)\n",
    "ll.append(1)\n",
    "ll.append(9)\n",
    "ll.append(4)\n",
    "ll.append(5)\n",
    "\n",
    "\n",
    "current = ll.head\n",
    "while current.next:\n",
    "    current = current.next\n",
    "current.next = ll.head.next\n",
    "\n",
    "print(ll.is_circular())"
   ]
  },
  {
   "cell_type": "code",
   "execution_count": 35,
   "id": "ce0b524a",
   "metadata": {},
   "outputs": [
    {
     "name": "stdout",
     "output_type": "stream",
     "text": [
      "True\n"
     ]
    }
   ],
   "source": [
    "m = [\n",
    "    [2, -2, -4],\n",
    "    [-1, 3, 4],\n",
    "    [1, -2, -3]\n",
    "]\n",
    "\n",
    "result = [[0, 0, 0], [0, 0, 0], [0, 0, 0]]\n",
    "for i in range(3):\n",
    "    for j in range(3):\n",
    "        for k in range(3):\n",
    "            result[i][j] += m[i][k] * m[k][j]\n",
    "if result == m:\n",
    "    print(\"True\")\n",
    "else:\n",
    "    print(\"No\")\n"
   ]
  },
  {
   "cell_type": "code",
   "execution_count": 36,
   "id": "c127b3f8",
   "metadata": {},
   "outputs": [
    {
     "name": "stdout",
     "output_type": "stream",
     "text": [
      "[7, 4, 1]\n",
      "[8, 5, 2]\n",
      "[9, 6, 3]\n"
     ]
    }
   ],
   "source": [
    "matrix = [\n",
    "    [1, 2, 3],\n",
    "    [4, 5, 6],\n",
    "    [7, 8, 9]\n",
    "]\n",
    "transposed_matrix = [[matrix[j][i] for j in range(3)] for i in range(3)]\n",
    "rotated_matrix = [list(reversed(row)) for row in transposed_matrix]\n",
    "for row in rotated_matrix:\n",
    "    print(row)\n"
   ]
  },
  {
   "cell_type": "code",
   "execution_count": 37,
   "id": "1a429115",
   "metadata": {},
   "outputs": [
    {
     "name": "stdout",
     "output_type": "stream",
     "text": [
      "[1, 1, 1, 1]\n",
      "[1, 1, 1, 1]\n",
      "[1, 1, 1, 1]\n"
     ]
    }
   ],
   "source": [
    "\n",
    "original_matrix = [\n",
    "    [0, 1, 1, 1],\n",
    "    [1, 1, 0, 1],\n",
    "    [1, 0, 0, 1]\n",
    "]\n",
    "new_matrix = []\n",
    "for row in original_matrix:\n",
    "    new_row = [] \n",
    "    for element in row:\n",
    "        if element == 0:\n",
    "          \n",
    "            new_row.append(1)\n",
    "        else:\n",
    "          \n",
    "            new_row.append(element)\n",
    "    new_matrix.append(new_row)\n",
    "\n",
    "for row in new_matrix:\n",
    "    print(row)\n"
   ]
  },
  {
   "cell_type": "code",
   "execution_count": 38,
   "id": "a3ba4b17",
   "metadata": {},
   "outputs": [
    {
     "name": "stdout",
     "output_type": "stream",
     "text": [
      "The graph contains a cycle.\n"
     ]
    }
   ],
   "source": [
    "def has_cycle(graph):\n",
    "    visited = set()\n",
    "    def dfs(node):\n",
    "        if node in visited:\n",
    "            return True\n",
    "        visited.add(node)\n",
    "        return any(dfs(neighbor) for neighbor in graph.get(node, []))\n",
    "    \n",
    "    return any(not node in visited and dfs(node) for node in graph)\n",
    "graph = {\n",
    "    1: [2],\n",
    "    3: [2],\n",
    "    4: [1, 3],\n",
    "    2: [4]\n",
    "}\n",
    "\n",
    "if has_cycle(graph):\n",
    "    print(\"The graph contains a cycle.\")\n",
    "else:\n",
    "    print(\"The graph does not contain a cycle.\")\n"
   ]
  },
  {
   "cell_type": "code",
   "execution_count": 39,
   "id": "4e04bbcf",
   "metadata": {},
   "outputs": [
    {
     "name": "stdout",
     "output_type": "stream",
     "text": [
      "Inorder traversal:\n",
      "20\n",
      "30\n",
      "40\n",
      "50\n",
      "60\n",
      "70\n",
      "80\n",
      "40 found in the tree.\n"
     ]
    }
   ],
   "source": [
    "class TreeNode:\n",
    "    def __init__(self, key):\n",
    "        self.left = None\n",
    "        self.right = None\n",
    "        self.val = key\n",
    "\n",
    "def insert(root, key):\n",
    "    if not root:\n",
    "        return TreeNode(key)\n",
    "    if key < root.val:\n",
    "        root.left = insert(root.left, key)\n",
    "    else:\n",
    "        root.right = insert(root.right, key)\n",
    "    return root\n",
    "\n",
    "def search(root, key):\n",
    "    if not root or root.val == key:\n",
    "        return root\n",
    "    if key < root.val:\n",
    "        return search(root.left, key)\n",
    "    return search(root.right, key)\n",
    "\n",
    "def inorder_traversal(root):\n",
    "    if root:\n",
    "        inorder_traversal(root.left)\n",
    "        print(root.val)\n",
    "        inorder_traversal(root.right)\n",
    "\n",
    "if __name__ == \"__main__\":\n",
    "    root = None\n",
    "    keys = [50, 30, 20, 40, 70, 60, 80]\n",
    "    for key in keys:\n",
    "        root = insert(root, key)\n",
    "\n",
    "    print(\"Inorder traversal:\")\n",
    "    inorder_traversal(root)\n",
    "\n",
    "    key_to_find = 40\n",
    "    result = search(root, key_to_find)\n",
    "    if result:\n",
    "        print(f\"{key_to_find} found in the tree.\")\n",
    "    else:\n",
    "        print(f\"{key_to_find} not found in the tree.\")"
   ]
  },
  {
   "cell_type": "code",
   "execution_count": 41,
   "id": "420f6be3",
   "metadata": {},
   "outputs": [
    {
     "name": "stdout",
     "output_type": "stream",
     "text": [
      "2 3\n",
      "a d\n",
      "a e\n",
      "a f\n",
      "b d\n",
      "b e\n",
      "b f\n",
      "c d\n",
      "c e\n",
      "c f\n"
     ]
    }
   ],
   "source": [
    "x={'1':[0,0,0],\n",
    "   '2':[\"a\",'b','c'],\n",
    "   '3':[\"d\",'e','f'],\n",
    "   '4':[\"g\",'h','i'],\n",
    "   '5':['j','k','l'],\n",
    "   '6':['m','n','0'],\n",
    "   '7':['p','q','r'],\n",
    "   '8':['s','t','u'],\n",
    "   '9':['v','w','z']}\n",
    "a,b=map(int,input().split())\n",
    "int1=str(a)\n",
    "int2=str(b)\n",
    "for i in range(3):\n",
    "    for j in range(3):\n",
    "        print(x[int1][i],x[int2][j])"
   ]
  },
  {
   "cell_type": "code",
   "execution_count": 42,
   "id": "ebdadd39",
   "metadata": {},
   "outputs": [
    {
     "name": "stdout",
     "output_type": "stream",
     "text": [
      "1\n",
      "3\n",
      "8\n",
      "7\n",
      "5\n",
      "11\n",
      "13\n",
      "15\n"
     ]
    }
   ],
   "source": [
    "class Node:\n",
    "    def __init__(self, data):\n",
    "        self.data = data\n",
    "        self.left = None\n",
    "        self.right = None\n",
    "\n",
    "def print_alternate_levels(tree):\n",
    "    if tree is None:\n",
    "        return\n",
    "\n",
    "    i = 0\n",
    "    queue = []\n",
    "    queue.append(tree)\n",
    "\n",
    "    while queue:\n",
    "        node = queue.pop(0)\n",
    "\n",
    "        if i % 2 == 0:\n",
    "            print(node.data)\n",
    "\n",
    "        if node.left is not None:\n",
    "            queue.append(node.left)\n",
    "        if node.right is not None:\n",
    "            queue.append(node.right)\n",
    "\n",
    "        i += 1\n",
    "\n",
    "root = Node(1)\n",
    "root.left = Node(2)\n",
    "root.right = Node(3)\n",
    "root.left.left = Node(4)\n",
    "root.left.right = Node(8)\n",
    "root.right.left = Node(6)\n",
    "root.right.right = Node(7)\n",
    "root.left.left.left = Node(8)\n",
    "root.left.left.right = Node(5)\n",
    "root.left.right.left = Node(10)\n",
    "root.left.right.right = Node(11)\n",
    "root.right.left.left = Node(12)\n",
    "root.right.left.right = Node(13)\n",
    "root.right.right.left = Node(14)\n",
    "root.right.right.right = Node(15)\n",
    "\n",
    "print_alternate_levels(root)"
   ]
  },
  {
   "cell_type": "code",
   "execution_count": 43,
   "id": "bf10722e",
   "metadata": {},
   "outputs": [
    {
     "name": "stdout",
     "output_type": "stream",
     "text": [
      "8 4\n",
      "8 2\n",
      "8 1\n",
      "4 2\n",
      "4 1\n",
      "2 1\n"
     ]
    }
   ],
   "source": [
    "a=[8,4,2,1]\n",
    "for i in range(len(a)):\n",
    "    for j in range(1,len(a)):\n",
    "        if a[i]>a[j] and i<j:\n",
    "            print(a[i],a[j])"
   ]
  },
  {
   "cell_type": "code",
   "execution_count": 44,
   "id": "a1c5ceba",
   "metadata": {},
   "outputs": [
    {
     "name": "stdout",
     "output_type": "stream",
     "text": [
      "Enter a string: car\n",
      "car\n",
      "cra\n",
      "acr\n",
      "arc\n",
      "rca\n",
      "rac\n"
     ]
    }
   ],
   "source": [
    "def get_permutations(string):\n",
    "    permutations = []\n",
    "    if len(string) <= 1:\n",
    "        return [string]\n",
    "    for i in range(len(string)):\n",
    "        current_element = string[i]\n",
    "        remaining_elements = string[:i] + string[i + 1:]\n",
    "        for i in get_permutations(remaining_elements):\n",
    "            permutations.append(current_element + i)\n",
    "    return permutations\n",
    "s = input(\"Enter a string: \")\n",
    "result = get_permutations(s)\n",
    "for i in result:\n",
    "    print(i)"
   ]
  },
  {
   "cell_type": "code",
   "execution_count": 45,
   "id": "ed345ca4",
   "metadata": {},
   "outputs": [
    {
     "name": "stdout",
     "output_type": "stream",
     "text": [
      "0\n"
     ]
    }
   ],
   "source": [
    "l1=\"11011\"\n",
    "l2=\"11110\"\n",
    "s1=[]\n",
    "s2=[]\n",
    "sum=0\n",
    "for x in l1:\n",
    "    s1.append(x)\n",
    "for y in l2:\n",
    "    s2.append(y)\n",
    "for i in range(len(s1)):\n",
    "        if s1[i]!=s2[i]:\n",
    "            if s1[i]==s2[i+1]:\n",
    "                s2[i]=s2[i+1]\n",
    "                s2[i+1]=s2[i]\n",
    "                sum=sum+1\n",
    "        if i+1==len(s1)-1:\n",
    "            break\n",
    "print(sum)"
   ]
  },
  {
   "cell_type": "code",
   "execution_count": 46,
   "id": "5b9a3015",
   "metadata": {},
   "outputs": [
    {
     "name": "stdout",
     "output_type": "stream",
     "text": [
      "Enter 1 for string OR 2 for number: 2\n",
      "Enter first number : 4\n",
      "Enter second number: 1\n",
      "Minimum number of swaps required: 0\n"
     ]
    }
   ],
   "source": [
    "n = int(input(\"Enter 1 for string OR 2 for number: \"))\n",
    "swaps = 0\n",
    "if n == 1:\n",
    "    s1 = input(\"Enter first string : \")\n",
    "    s2 = input(\"Enter second string: \")\n",
    "    if len(s1) == len(s2):\n",
    "        s1_list = list(s1)\n",
    "        s2_list = list(s2)\n",
    "        for i in range(len(s1)):\n",
    "            if s1_list[i] != s2_list[i]:\n",
    "                for j in range(i + 1, len(s2)):\n",
    "                    if s2_list[j] == s1_list[i]:\n",
    "                        s2_list[i], s2_list[j] = s2_list[j], s2_list[i]\n",
    "                        swaps += 1\n",
    "                        continue\n",
    "        print(\"Minimum number of swaps required:\", swaps)\n",
    "    else:\n",
    "        print(\"Strings are of different lengths.\")\n",
    "elif n == 2:\n",
    "    n1 = int(input(\"Enter first number : \"))\n",
    "    n2 = int(input(\"Enter second number: \"))\n",
    "    n1_str = str(n1)\n",
    "    n2_str = str(n2)\n",
    "    if len(n1_str) == len(n2_str):\n",
    "        n1_list = list(n1_str)\n",
    "        n2_list = list(n2_str)\n",
    "        for i in range(len(n1_str)):\n",
    "            if n1_list[i] != n2_list[i]:\n",
    "                for j in range(i + 1, len(n2_str)):\n",
    "                    if n2_list[j] == n1_list[i]:\n",
    "                        n2_list[i], n2_list[j] = n2_list[j], n2_list[i]\n",
    "                        swaps += 1\n",
    "                        continue\n",
    "        print(\"Minimum number of swaps required:\", swaps)\n",
    "    else:\n",
    "        print(\"Numbers have different numbers of digits.\")\n",
    "else:\n",
    "    print(\"Invalid choice\")"
   ]
  },
  {
   "cell_type": "code",
   "execution_count": 47,
   "id": "b3ab361f",
   "metadata": {},
   "outputs": [
    {
     "name": "stdout",
     "output_type": "stream",
     "text": [
      "[1, 1, 1, 1]\n",
      "[1, 1, 0, 1]\n",
      "[1, 1, 1, 1]\n"
     ]
    }
   ],
   "source": [
    "def update_boundary_to_1(matrix):\n",
    "    if not matrix:\n",
    "        return matrix\n",
    "\n",
    "    \n",
    "    num_rows = len(matrix)\n",
    "    num_cols = len(matrix[0])\n",
    "\n",
    "    \n",
    "    for i in range(num_cols):\n",
    "        matrix[0][i] = 1\n",
    "        matrix[num_rows - 1][i] = 1\n",
    "\n",
    "    \n",
    "    for i in range(1, num_rows - 1):\n",
    "        matrix[i][0] = 1\n",
    "        matrix[i][num_cols - 1] = 1\n",
    "\n",
    "    return matrix\n",
    "\n",
    "\n",
    "matrix = [\n",
    "    [0, 1, 1, 1],\n",
    "    [1, 1, 0, 1],\n",
    "    [1, 0, 0, 1]\n",
    "]\n",
    "\n",
    "\n",
    "updated_matrix = update_boundary_to_1(matrix)\n",
    "\n",
    "\n",
    "for row in updated_matrix:\n",
    "    print(row)"
   ]
  },
  {
   "cell_type": "code",
   "execution_count": null,
   "id": "7bae9df3",
   "metadata": {},
   "outputs": [],
   "source": []
  }
 ],
 "metadata": {
  "kernelspec": {
   "display_name": "Python 3 (ipykernel)",
   "language": "python",
   "name": "python3"
  },
  "language_info": {
   "codemirror_mode": {
    "name": "ipython",
    "version": 3
   },
   "file_extension": ".py",
   "mimetype": "text/x-python",
   "name": "python",
   "nbconvert_exporter": "python",
   "pygments_lexer": "ipython3",
   "version": "3.9.12"
  }
 },
 "nbformat": 4,
 "nbformat_minor": 5
}
